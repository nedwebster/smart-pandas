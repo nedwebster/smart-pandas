{
 "cells": [
  {
   "cell_type": "markdown",
   "metadata": {},
   "source": [
    "# Smart Pandas Example\n",
    "This notebook demonstrates the capabilities of the smart-pandas package for a standard ML pipeline."
   ]
  },
  {
   "cell_type": "markdown",
   "metadata": {},
   "source": [
    "## Basic Usage\n",
    "In order to use smart-pandas, all you need to do is modify your pandas import to grab the package from smart-pandas. When you import pandas via smart-pandas it will include the custom smart-pandas api extension, which is how can we access the packages funcionality."
   ]
  },
  {
   "cell_type": "code",
   "execution_count": 27,
   "metadata": {},
   "outputs": [],
   "source": [
    "from smart_pandas import pandas as pd"
   ]
  },
  {
   "cell_type": "markdown",
   "metadata": {},
   "source": [
    "Then you can load your pandas dataframe however you normally would. Here we are just generating an example dataframe for use in this example."
   ]
  },
  {
   "cell_type": "code",
   "execution_count": 28,
   "metadata": {},
   "outputs": [],
   "source": [
    "# an example dataframe\n",
    "data = pd.DataFrame(\n",
    "    {\n",
    "        \"user_id\": [\"1\", \"2\", \"3\"],\n",
    "        \"timestamp\": [pd.Timestamp(\"2020-01-01\"), pd.Timestamp(\"2020-01-02\"), pd.Timestamp(\"2020-01-03\")],\n",
    "        \"name\": [\"Emily\", \"Adam\", \"Charles\"],\n",
    "        \"weight\": [60, 74, 80],\n",
    "        \"height\": [165, 182, 185],\n",
    "        \"age\": [25, 30, 35],\n",
    "        \"life_expectancy\": [90, 80, 80],\n",
    "    }\n",
    ")"
   ]
  },
  {
   "cell_type": "markdown",
   "metadata": {},
   "source": [
    "You also need to define a smart pandas config file, which we have at `example_config.yaml`. The config looks as follows:\n",
    "\n",
    "```\n",
    "{\n",
    "  name: \"life_expectancy_modelling_data\",\n",
    "  columns: [\n",
    "    {\n",
    "      name: \"user_id\",\n",
    "      schema: {\"dtype\": \"str\"},\n",
    "      tags: [\"unique_identifier\"],\n",
    "      description: \"Unique identifier for the person\"\n",
    "    },\n",
    "    {\n",
    "      name: \"timestamp\",\n",
    "      schema: {\"dtype\": \"datetime\"},\n",
    "      tags: [\"row_timestamp\"],\n",
    "      description: \"Timestamp of the data\"\n",
    "    },\n",
    "    {\n",
    "      name: \"name\",\n",
    "      schema: {\"dtype\": \"str\"},\n",
    "      tags: [\"metadata\"],\n",
    "      description: \"Name of the person\"\n",
    "    },\n",
    "    {\n",
    "      name: \"weight\",\n",
    "      schema: {\"dtype\": \"float\"},\n",
    "      tags: [\"raw_feature\"],\n",
    "      description: \"Weight of the person in kg\"\n",
    "    },\n",
    "    {\n",
    "      name: \"height\",\n",
    "      schema: {\"dtype\": \"float\"},\n",
    "      tags: [\"raw_feature\"],\n",
    "      description: \"Height of the person in cm\"\n",
    "    },\n",
    "    {\n",
    "      name: \"age\",\n",
    "      schema: {\"dtype\": \"int\"},\n",
    "      tags: [\"raw_feature\", \"model_feature\"],\n",
    "      description: \"Age of the person in years\"\n",
    "    },\n",
    "    {\n",
    "      name: \"bmi\",\n",
    "      schema: {\"dtype\": \"float\"},\n",
    "      tags: [\"derived_feature\", \"model_feature\"],\n",
    "      description: \"BMI of the person\"\n",
    "    },\n",
    "    {\n",
    "      name: \"life_expectancy\",\n",
    "      schema: {\"dtype\": \"int\"},\n",
    "      tags: [\"target\"],\n",
    "      description: \"Life expectancy of the person in years\"\n",
    "    },\n",
    "  ]\n",
    "}\n",
    "\n",
    "```"
   ]
  },
  {
   "cell_type": "markdown",
   "metadata": {},
   "source": [
    "Then you can initialise the smart-pandas configuration and attach it to your pandas dataframe with the following call:"
   ]
  },
  {
   "cell_type": "code",
   "execution_count": 29,
   "metadata": {},
   "outputs": [],
   "source": [
    "data.smart_pandas.init(config_path=\"example_config.yaml\")"
   ]
  },
  {
   "cell_type": "markdown",
   "metadata": {},
   "source": [
    "Now we have access to the `smart_pandas` attribute on our pandas dataframe, and can access various calls. Below are some examples:"
   ]
  },
  {
   "cell_type": "code",
   "execution_count": 30,
   "metadata": {},
   "outputs": [
    {
     "data": {
      "text/html": [
       "<div>\n",
       "<style scoped>\n",
       "    .dataframe tbody tr th:only-of-type {\n",
       "        vertical-align: middle;\n",
       "    }\n",
       "\n",
       "    .dataframe tbody tr th {\n",
       "        vertical-align: top;\n",
       "    }\n",
       "\n",
       "    .dataframe thead th {\n",
       "        text-align: right;\n",
       "    }\n",
       "</style>\n",
       "<table border=\"1\" class=\"dataframe\">\n",
       "  <thead>\n",
       "    <tr style=\"text-align: right;\">\n",
       "      <th></th>\n",
       "      <th>user_id</th>\n",
       "    </tr>\n",
       "  </thead>\n",
       "  <tbody>\n",
       "    <tr>\n",
       "      <th>0</th>\n",
       "      <td>1</td>\n",
       "    </tr>\n",
       "    <tr>\n",
       "      <th>1</th>\n",
       "      <td>2</td>\n",
       "    </tr>\n",
       "    <tr>\n",
       "      <th>2</th>\n",
       "      <td>3</td>\n",
       "    </tr>\n",
       "  </tbody>\n",
       "</table>\n",
       "</div>"
      ],
      "text/plain": [
       "  user_id\n",
       "0       1\n",
       "1       2\n",
       "2       3"
      ]
     },
     "execution_count": 30,
     "metadata": {},
     "output_type": "execute_result"
    }
   ],
   "source": [
    "# access the unique identifier column\n",
    "data.smart_pandas.unique_identifier"
   ]
  },
  {
   "cell_type": "code",
   "execution_count": 31,
   "metadata": {},
   "outputs": [
    {
     "data": {
      "text/html": [
       "<div>\n",
       "<style scoped>\n",
       "    .dataframe tbody tr th:only-of-type {\n",
       "        vertical-align: middle;\n",
       "    }\n",
       "\n",
       "    .dataframe tbody tr th {\n",
       "        vertical-align: top;\n",
       "    }\n",
       "\n",
       "    .dataframe thead th {\n",
       "        text-align: right;\n",
       "    }\n",
       "</style>\n",
       "<table border=\"1\" class=\"dataframe\">\n",
       "  <thead>\n",
       "    <tr style=\"text-align: right;\">\n",
       "      <th></th>\n",
       "      <th>weight</th>\n",
       "      <th>height</th>\n",
       "      <th>age</th>\n",
       "    </tr>\n",
       "  </thead>\n",
       "  <tbody>\n",
       "    <tr>\n",
       "      <th>0</th>\n",
       "      <td>60</td>\n",
       "      <td>165</td>\n",
       "      <td>25</td>\n",
       "    </tr>\n",
       "    <tr>\n",
       "      <th>1</th>\n",
       "      <td>74</td>\n",
       "      <td>182</td>\n",
       "      <td>30</td>\n",
       "    </tr>\n",
       "    <tr>\n",
       "      <th>2</th>\n",
       "      <td>80</td>\n",
       "      <td>185</td>\n",
       "      <td>35</td>\n",
       "    </tr>\n",
       "  </tbody>\n",
       "</table>\n",
       "</div>"
      ],
      "text/plain": [
       "   weight  height  age\n",
       "0      60     165   25\n",
       "1      74     182   30\n",
       "2      80     185   35"
      ]
     },
     "execution_count": 31,
     "metadata": {},
     "output_type": "execute_result"
    }
   ],
   "source": [
    "# access the raw feature columns\n",
    "data.smart_pandas.raw_features"
   ]
  },
  {
   "cell_type": "markdown",
   "metadata": {},
   "source": [
    "## State\n",
    "smart-pandas tracks the synchronisation between the data columns and the configuration file through the `state` attribute. The `state` attribute represents the data at certain phases in the ML data lifecycle. The state is built up of two attributes, the `StateName` and the `MLStage`. The `StateName` represents the current point in a specific data pipeline, whereas the `MLStage` identifies which data pipeline we are in. Lets see an example with our data."
   ]
  },
  {
   "cell_type": "code",
   "execution_count": 32,
   "metadata": {},
   "outputs": [
    {
     "data": {
      "text/plain": [
       "StateName.RAW, MLStage.TRAINING"
      ]
     },
     "execution_count": 32,
     "metadata": {},
     "output_type": "execute_result"
    }
   ],
   "source": [
    "data.smart_pandas.state"
   ]
  },
  {
   "cell_type": "markdown",
   "metadata": {},
   "source": [
    "The `StateName` for our current data is `RAW`, which indactes that we currently have the raw features and not the processed model features. The `MLStage` for our current data `TRAINING`, smart-pandas identifies this via the presence of the `target` column in the data.\n",
    "\n",
    "An important difference between `StateName` and `MLStage` is that the `StateName` is mutable, and the `MLStage` is not. Once an `MLStage` is set for a given dataset, it cannot change without re-initialising the smart-pandas config for that dataframe. This should make intuitive sense, we are either in a training workflow or an inference workflow, and we won't be moving between them. However the `StateName` will necessarily change as we move through processes of our data transformations.\n",
    "\n",
    "Let's see what happens to the state after we have done our feature engineering!"
   ]
  },
  {
   "cell_type": "code",
   "execution_count": 33,
   "metadata": {},
   "outputs": [],
   "source": [
    "def feature_engineering(data: pd.DataFrame) -> pd.DataFrame:\n",
    "    \"\"\"An example feature engineering function.\"\"\"\n",
    "\n",
    "    data.loc[:, \"bmi\"] = data.loc[:, \"weight\"] / (data.loc[:, \"height\"] / 100) ** 2\n",
    "    data.drop(columns=[\"weight\", \"height\"], inplace=True)\n",
    "    return data"
   ]
  },
  {
   "cell_type": "code",
   "execution_count": 34,
   "metadata": {},
   "outputs": [
    {
     "data": {
      "text/plain": [
       "StateName.PROCESSED, MLStage.TRAINING"
      ]
     },
     "execution_count": 34,
     "metadata": {},
     "output_type": "execute_result"
    }
   ],
   "source": [
    "# perform the feature engineering\n",
    "data = feature_engineering(data)\n",
    "\n",
    "# update the state based on the new columns\n",
    "data.smart_pandas.update_state()\n",
    "\n",
    "# check the state\n",
    "data.smart_pandas.state"
   ]
  },
  {
   "cell_type": "markdown",
   "metadata": {},
   "source": [
    "You can see that the `StateName` has now moved from `RAW` to `PROCESSED`, this is based on the precence of all the model features (check the tags in the config above) existing in the dataframe. This is telling us our data is ready to be fed into the model!"
   ]
  },
  {
   "cell_type": "markdown",
   "metadata": {},
   "source": [
    "The state has two values which represent a loss in the expected data structure, these are `UNKNOWN` and `CORRUPTED`. A `CORRUPTED` state is a result of a strict breaking of one of the data assumptions that smart-pandas builds off. For example, smart-pandas requires your data to have a unique identifier. If that column is missing from your data, your state will be `CORRUPTED`."
   ]
  },
  {
   "cell_type": "code",
   "execution_count": 52,
   "metadata": {},
   "outputs": [
    {
     "data": {
      "text/plain": [
       "StateName.CORRUPTED, MLStage.TRAINING"
      ]
     },
     "execution_count": 52,
     "metadata": {},
     "output_type": "execute_result"
    }
   ],
   "source": [
    "# copy the id col to append back after this test\n",
    "id_col = data.smart_pandas.unique_identifier\n",
    "\n",
    "# drop the id column\n",
    "data.drop(columns=data.smart_pandas.config.unique_identifier, inplace=True)\n",
    "\n",
    "# update the state to reflect the missing id column\n",
    "data.smart_pandas.update_state()\n",
    "\n",
    "# check the state\n",
    "data.smart_pandas.state"
   ]
  },
  {
   "cell_type": "markdown",
   "metadata": {},
   "source": [
    "The `UNKNOWN` state represents data which is somewhere between `RAW` and `PROCESSED`. That is to say, it is not missing any key columns, but it contains a partial combination of the raw and derived features. For example, if we generate the `bmi` feature as above, but we do not drop the non-model features, we will enter an `UNKNOWN` state."
   ]
  },
  {
   "cell_type": "code",
   "execution_count": 53,
   "metadata": {},
   "outputs": [],
   "source": [
    "data.loc[:, data.smart_pandas.config.unique_identifier] = id_col"
   ]
  },
  {
   "cell_type": "markdown",
   "metadata": {},
   "source": [
    "## Data Validation\n",
    "Smart Pandas uses [Pandera schemas](https://pandera.readthedocs.io/en/stable/) under the hood to provide a way to validate your data at various points in your pipeline. Smart Pandas uses the schema settings defined in the config, as well as the current state of the dataframe, to build a schema and validate the data. Below is an example (much like a lot of Pandas functionality, we offer the option to validate the data inplace. This means any type coercion performed by the schema validation will be applied to your data):"
   ]
  },
  {
   "cell_type": "code",
   "execution_count": 36,
   "metadata": {},
   "outputs": [],
   "source": [
    "# re-initialise the dataframe to include the raw features rather than the processed model features\n",
    "data = pd.DataFrame(\n",
    "    {\n",
    "        \"user_id\": [\"1\", \"2\", \"3\"],\n",
    "        \"timestamp\": [pd.Timestamp(\"2020-01-01\"), pd.Timestamp(\"2020-01-02\"), pd.Timestamp(\"2020-01-03\")],\n",
    "        \"name\": [\"Emily\", \"Adam\", \"Charles\"],\n",
    "        \"weight\": [60, 74, 80],\n",
    "        \"height\": [165, 182, 185],\n",
    "        \"age\": [25, 30, 35],\n",
    "        \"life_expectancy\": [90, 80, 80],\n",
    "    }\n",
    ")\n",
    "\n",
    "data.smart_pandas.init(config_path=\"example_config.yaml\")"
   ]
  },
  {
   "cell_type": "code",
   "execution_count": 37,
   "metadata": {},
   "outputs": [],
   "source": [
    "data.smart_pandas.validate(inplace=True)"
   ]
  },
  {
   "cell_type": "markdown",
   "metadata": {},
   "source": [
    "Our data passed the validation checks without any isues, great! If we want to know exactly what we are validating, we can access the schema directly."
   ]
  },
  {
   "cell_type": "code",
   "execution_count": 41,
   "metadata": {},
   "outputs": [
    {
     "name": "stdout",
     "output_type": "stream",
     "text": [
      "<Schema DataFrameSchema(\n",
      "    columns={\n",
      "        'user_id': <Schema Column(name=user_id, type=DataType(str))>\n",
      "        'timestamp': <Schema Column(name=timestamp, type=DataType(datetime64[ns]))>\n",
      "        'name': <Schema Column(name=name, type=DataType(str))>\n",
      "        'weight': <Schema Column(name=weight, type=DataType(float64))>\n",
      "        'height': <Schema Column(name=height, type=DataType(float64))>\n",
      "        'age': <Schema Column(name=age, type=DataType(int64))>\n",
      "        'life_expectancy': <Schema Column(name=life_expectancy, type=DataType(int64))>\n",
      "    },\n",
      "    checks=[],\n",
      "    parsers=[],\n",
      "    coerce=True,\n",
      "    dtype=None,\n",
      "    index=None,\n",
      "    strict=True,\n",
      "    name=None,\n",
      "    ordered=False,\n",
      "    unique_column_names=True,\n",
      "    metadata=None, \n",
      "    add_missing_columns=False\n",
      ")>\n"
     ]
    }
   ],
   "source": [
    "print(data.smart_pandas.schema)"
   ]
  },
  {
   "cell_type": "markdown",
   "metadata": {},
   "source": [
    "A good question to ask might be: what happens if we try to validate the data after we have performed some feature engineering? Let's generate our `bmi` feature again and see what happens when we attempt to validate."
   ]
  },
  {
   "cell_type": "code",
   "execution_count": 42,
   "metadata": {},
   "outputs": [],
   "source": [
    "data = feature_engineering(data)"
   ]
  },
  {
   "cell_type": "code",
   "execution_count": 43,
   "metadata": {},
   "outputs": [
    {
     "ename": "SchemaError",
     "evalue": "column 'bmi' not in DataFrameSchema {'user_id': <Schema Column(name=user_id, type=DataType(str))>, 'timestamp': <Schema Column(name=timestamp, type=DataType(datetime64[ns]))>, 'name': <Schema Column(name=name, type=DataType(str))>, 'weight': <Schema Column(name=weight, type=DataType(float64))>, 'height': <Schema Column(name=height, type=DataType(float64))>, 'age': <Schema Column(name=age, type=DataType(int64))>, 'life_expectancy': <Schema Column(name=life_expectancy, type=DataType(int64))>}",
     "output_type": "error",
     "traceback": [
      "\u001b[0;31m---------------------------------------------------------------------------\u001b[0m",
      "\u001b[0;31mSchemaError\u001b[0m                               Traceback (most recent call last)",
      "Cell \u001b[0;32mIn[43], line 1\u001b[0m\n\u001b[0;32m----> 1\u001b[0m \u001b[43mdata\u001b[49m\u001b[38;5;241;43m.\u001b[39;49m\u001b[43msmart_pandas\u001b[49m\u001b[38;5;241;43m.\u001b[39;49m\u001b[43mvalidate\u001b[49m\u001b[43m(\u001b[49m\u001b[43minplace\u001b[49m\u001b[38;5;241;43m=\u001b[39;49m\u001b[38;5;28;43;01mTrue\u001b[39;49;00m\u001b[43m,\u001b[49m\u001b[43m \u001b[49m\u001b[43mupdate_state\u001b[49m\u001b[38;5;241;43m=\u001b[39;49m\u001b[38;5;28;43;01mFalse\u001b[39;49;00m\u001b[43m)\u001b[49m\n",
      "File \u001b[0;32m~/Documents/python_projects/personal_projects/smart-pandas/smart_pandas/smart_pandas.py:83\u001b[0m, in \u001b[0;36mSmartPandas.validate\u001b[0;34m(self, inplace, update_state, **kwargs)\u001b[0m\n\u001b[1;32m     80\u001b[0m     \u001b[38;5;28mself\u001b[39m\u001b[38;5;241m.\u001b[39mupdate_state()\n\u001b[1;32m     82\u001b[0m \u001b[38;5;28;01mif\u001b[39;00m inplace:\n\u001b[0;32m---> 83\u001b[0m     \u001b[38;5;28;43mself\u001b[39;49m\u001b[38;5;241;43m.\u001b[39;49m\u001b[43mschema\u001b[49m\u001b[38;5;241;43m.\u001b[39;49m\u001b[43mvalidate\u001b[49m\u001b[43m(\u001b[49m\u001b[38;5;28;43mself\u001b[39;49m\u001b[38;5;241;43m.\u001b[39;49m\u001b[43m_obj\u001b[49m\u001b[43m,\u001b[49m\u001b[43m \u001b[49m\u001b[43minplace\u001b[49m\u001b[38;5;241;43m=\u001b[39;49m\u001b[43minplace\u001b[49m\u001b[43m,\u001b[49m\u001b[43m \u001b[49m\u001b[38;5;241;43m*\u001b[39;49m\u001b[38;5;241;43m*\u001b[39;49m\u001b[43mkwargs\u001b[49m\u001b[43m)\u001b[49m\n\u001b[1;32m     84\u001b[0m     \u001b[38;5;28;01mreturn\u001b[39;00m \u001b[38;5;28;01mNone\u001b[39;00m\n\u001b[1;32m     85\u001b[0m validated_data \u001b[38;5;241m=\u001b[39m \u001b[38;5;28mself\u001b[39m\u001b[38;5;241m.\u001b[39mschema\u001b[38;5;241m.\u001b[39mvalidate(\n\u001b[1;32m     86\u001b[0m     \u001b[38;5;28mself\u001b[39m\u001b[38;5;241m.\u001b[39m_obj, inplace\u001b[38;5;241m=\u001b[39minplace, \u001b[38;5;241m*\u001b[39m\u001b[38;5;241m*\u001b[39mkwargs\n\u001b[1;32m     87\u001b[0m )\n",
      "File \u001b[0;32m~/Documents/python_projects/personal_projects/smart-pandas/.venv/lib/python3.10/site-packages/pandera/api/pandas/container.py:126\u001b[0m, in \u001b[0;36mDataFrameSchema.validate\u001b[0;34m(self, check_obj, head, tail, sample, random_state, lazy, inplace)\u001b[0m\n\u001b[1;32m    114\u001b[0m     check_obj \u001b[38;5;241m=\u001b[39m check_obj\u001b[38;5;241m.\u001b[39mmap_partitions(  \u001b[38;5;66;03m# type: ignore [operator]\u001b[39;00m\n\u001b[1;32m    115\u001b[0m         \u001b[38;5;28mself\u001b[39m\u001b[38;5;241m.\u001b[39m_validate,\n\u001b[1;32m    116\u001b[0m         head\u001b[38;5;241m=\u001b[39mhead,\n\u001b[0;32m   (...)\u001b[0m\n\u001b[1;32m    122\u001b[0m         meta\u001b[38;5;241m=\u001b[39mcheck_obj,\n\u001b[1;32m    123\u001b[0m     )\n\u001b[1;32m    124\u001b[0m     \u001b[38;5;28;01mreturn\u001b[39;00m check_obj\u001b[38;5;241m.\u001b[39mpandera\u001b[38;5;241m.\u001b[39madd_schema(\u001b[38;5;28mself\u001b[39m)\n\u001b[0;32m--> 126\u001b[0m \u001b[38;5;28;01mreturn\u001b[39;00m \u001b[38;5;28;43mself\u001b[39;49m\u001b[38;5;241;43m.\u001b[39;49m\u001b[43m_validate\u001b[49m\u001b[43m(\u001b[49m\n\u001b[1;32m    127\u001b[0m \u001b[43m    \u001b[49m\u001b[43mcheck_obj\u001b[49m\u001b[38;5;241;43m=\u001b[39;49m\u001b[43mcheck_obj\u001b[49m\u001b[43m,\u001b[49m\n\u001b[1;32m    128\u001b[0m \u001b[43m    \u001b[49m\u001b[43mhead\u001b[49m\u001b[38;5;241;43m=\u001b[39;49m\u001b[43mhead\u001b[49m\u001b[43m,\u001b[49m\n\u001b[1;32m    129\u001b[0m \u001b[43m    \u001b[49m\u001b[43mtail\u001b[49m\u001b[38;5;241;43m=\u001b[39;49m\u001b[43mtail\u001b[49m\u001b[43m,\u001b[49m\n\u001b[1;32m    130\u001b[0m \u001b[43m    \u001b[49m\u001b[43msample\u001b[49m\u001b[38;5;241;43m=\u001b[39;49m\u001b[43msample\u001b[49m\u001b[43m,\u001b[49m\n\u001b[1;32m    131\u001b[0m \u001b[43m    \u001b[49m\u001b[43mrandom_state\u001b[49m\u001b[38;5;241;43m=\u001b[39;49m\u001b[43mrandom_state\u001b[49m\u001b[43m,\u001b[49m\n\u001b[1;32m    132\u001b[0m \u001b[43m    \u001b[49m\u001b[43mlazy\u001b[49m\u001b[38;5;241;43m=\u001b[39;49m\u001b[43mlazy\u001b[49m\u001b[43m,\u001b[49m\n\u001b[1;32m    133\u001b[0m \u001b[43m    \u001b[49m\u001b[43minplace\u001b[49m\u001b[38;5;241;43m=\u001b[39;49m\u001b[43minplace\u001b[49m\u001b[43m,\u001b[49m\n\u001b[1;32m    134\u001b[0m \u001b[43m\u001b[49m\u001b[43m)\u001b[49m\n",
      "File \u001b[0;32m~/Documents/python_projects/personal_projects/smart-pandas/.venv/lib/python3.10/site-packages/pandera/api/pandas/container.py:155\u001b[0m, in \u001b[0;36mDataFrameSchema._validate\u001b[0;34m(self, check_obj, head, tail, sample, random_state, lazy, inplace)\u001b[0m\n\u001b[1;32m    146\u001b[0m \u001b[38;5;28;01mif\u001b[39;00m \u001b[38;5;28mself\u001b[39m\u001b[38;5;241m.\u001b[39m_is_inferred:\n\u001b[1;32m    147\u001b[0m     warnings\u001b[38;5;241m.\u001b[39mwarn(\n\u001b[1;32m    148\u001b[0m         \u001b[38;5;124mf\u001b[39m\u001b[38;5;124m\"\u001b[39m\u001b[38;5;124mThis \u001b[39m\u001b[38;5;132;01m{\u001b[39;00m\u001b[38;5;28mtype\u001b[39m(\u001b[38;5;28mself\u001b[39m)\u001b[38;5;132;01m}\u001b[39;00m\u001b[38;5;124m is an inferred schema that hasn\u001b[39m\u001b[38;5;124m'\u001b[39m\u001b[38;5;124mt been \u001b[39m\u001b[38;5;124m\"\u001b[39m\n\u001b[1;32m    149\u001b[0m         \u001b[38;5;124m\"\u001b[39m\u001b[38;5;124mmodified. It\u001b[39m\u001b[38;5;124m'\u001b[39m\u001b[38;5;124ms recommended that you refine the schema \u001b[39m\u001b[38;5;124m\"\u001b[39m\n\u001b[0;32m   (...)\u001b[0m\n\u001b[1;32m    152\u001b[0m         \u001b[38;5;167;01mUserWarning\u001b[39;00m,\n\u001b[1;32m    153\u001b[0m     )\n\u001b[0;32m--> 155\u001b[0m \u001b[38;5;28;01mreturn\u001b[39;00m \u001b[38;5;28;43mself\u001b[39;49m\u001b[38;5;241;43m.\u001b[39;49m\u001b[43mget_backend\u001b[49m\u001b[43m(\u001b[49m\u001b[43mcheck_obj\u001b[49m\u001b[43m)\u001b[49m\u001b[38;5;241;43m.\u001b[39;49m\u001b[43mvalidate\u001b[49m\u001b[43m(\u001b[49m\n\u001b[1;32m    156\u001b[0m \u001b[43m    \u001b[49m\u001b[43mcheck_obj\u001b[49m\u001b[43m,\u001b[49m\n\u001b[1;32m    157\u001b[0m \u001b[43m    \u001b[49m\u001b[43mschema\u001b[49m\u001b[38;5;241;43m=\u001b[39;49m\u001b[38;5;28;43mself\u001b[39;49m\u001b[43m,\u001b[49m\n\u001b[1;32m    158\u001b[0m \u001b[43m    \u001b[49m\u001b[43mhead\u001b[49m\u001b[38;5;241;43m=\u001b[39;49m\u001b[43mhead\u001b[49m\u001b[43m,\u001b[49m\n\u001b[1;32m    159\u001b[0m \u001b[43m    \u001b[49m\u001b[43mtail\u001b[49m\u001b[38;5;241;43m=\u001b[39;49m\u001b[43mtail\u001b[49m\u001b[43m,\u001b[49m\n\u001b[1;32m    160\u001b[0m \u001b[43m    \u001b[49m\u001b[43msample\u001b[49m\u001b[38;5;241;43m=\u001b[39;49m\u001b[43msample\u001b[49m\u001b[43m,\u001b[49m\n\u001b[1;32m    161\u001b[0m \u001b[43m    \u001b[49m\u001b[43mrandom_state\u001b[49m\u001b[38;5;241;43m=\u001b[39;49m\u001b[43mrandom_state\u001b[49m\u001b[43m,\u001b[49m\n\u001b[1;32m    162\u001b[0m \u001b[43m    \u001b[49m\u001b[43mlazy\u001b[49m\u001b[38;5;241;43m=\u001b[39;49m\u001b[43mlazy\u001b[49m\u001b[43m,\u001b[49m\n\u001b[1;32m    163\u001b[0m \u001b[43m    \u001b[49m\u001b[43minplace\u001b[49m\u001b[38;5;241;43m=\u001b[39;49m\u001b[43minplace\u001b[49m\u001b[43m,\u001b[49m\n\u001b[1;32m    164\u001b[0m \u001b[43m\u001b[49m\u001b[43m)\u001b[49m\n",
      "File \u001b[0;32m~/Documents/python_projects/personal_projects/smart-pandas/.venv/lib/python3.10/site-packages/pandera/backends/pandas/container.py:86\u001b[0m, in \u001b[0;36mDataFrameSchemaBackend.validate\u001b[0;34m(self, check_obj, schema, head, tail, sample, random_state, lazy, inplace)\u001b[0m\n\u001b[1;32m     84\u001b[0m     check_obj \u001b[38;5;241m=\u001b[39m parser(check_obj, \u001b[38;5;241m*\u001b[39margs)\n\u001b[1;32m     85\u001b[0m \u001b[38;5;28;01mexcept\u001b[39;00m SchemaError \u001b[38;5;28;01mas\u001b[39;00m exc:\n\u001b[0;32m---> 86\u001b[0m     \u001b[43merror_handler\u001b[49m\u001b[38;5;241;43m.\u001b[39;49m\u001b[43mcollect_error\u001b[49m\u001b[43m(\u001b[49m\n\u001b[1;32m     87\u001b[0m \u001b[43m        \u001b[49m\u001b[43mvalidation_type\u001b[49m\u001b[43m(\u001b[49m\u001b[43mexc\u001b[49m\u001b[38;5;241;43m.\u001b[39;49m\u001b[43mreason_code\u001b[49m\u001b[43m)\u001b[49m\u001b[43m,\u001b[49m\u001b[43m \u001b[49m\u001b[43mexc\u001b[49m\u001b[38;5;241;43m.\u001b[39;49m\u001b[43mreason_code\u001b[49m\u001b[43m,\u001b[49m\u001b[43m \u001b[49m\u001b[43mexc\u001b[49m\n\u001b[1;32m     88\u001b[0m \u001b[43m    \u001b[49m\u001b[43m)\u001b[49m\n\u001b[1;32m     89\u001b[0m \u001b[38;5;28;01mexcept\u001b[39;00m SchemaErrors \u001b[38;5;28;01mas\u001b[39;00m exc:\n\u001b[1;32m     90\u001b[0m     error_handler\u001b[38;5;241m.\u001b[39mcollect_errors(exc\u001b[38;5;241m.\u001b[39mschema_errors)\n",
      "File \u001b[0;32m~/Documents/python_projects/personal_projects/smart-pandas/.venv/lib/python3.10/site-packages/pandera/api/base/error_handler.py:54\u001b[0m, in \u001b[0;36mErrorHandler.collect_error\u001b[0;34m(self, error_type, reason_code, schema_error, original_exc)\u001b[0m\n\u001b[1;32m     47\u001b[0m \u001b[38;5;250m\u001b[39m\u001b[38;5;124;03m\"\"\"Collect schema error, raising exception if lazy is False.\u001b[39;00m\n\u001b[1;32m     48\u001b[0m \n\u001b[1;32m     49\u001b[0m \u001b[38;5;124;03m:param error_type: type of error\u001b[39;00m\n\u001b[1;32m     50\u001b[0m \u001b[38;5;124;03m:param reason_code: string representing reason for error\u001b[39;00m\n\u001b[1;32m     51\u001b[0m \u001b[38;5;124;03m:param schema_error: ``SchemaError`` object.\u001b[39;00m\n\u001b[1;32m     52\u001b[0m \u001b[38;5;124;03m\"\"\"\u001b[39;00m\n\u001b[1;32m     53\u001b[0m \u001b[38;5;28;01mif\u001b[39;00m \u001b[38;5;129;01mnot\u001b[39;00m \u001b[38;5;28mself\u001b[39m\u001b[38;5;241m.\u001b[39m_lazy:\n\u001b[0;32m---> 54\u001b[0m     \u001b[38;5;28;01mraise\u001b[39;00m schema_error \u001b[38;5;28;01mfrom\u001b[39;00m \u001b[38;5;21;01moriginal_exc\u001b[39;00m\n\u001b[1;32m     56\u001b[0m \u001b[38;5;66;03m# delete data of validated object from SchemaError object to prevent\u001b[39;00m\n\u001b[1;32m     57\u001b[0m \u001b[38;5;66;03m# storing copies of the validated DataFrame/Series for every\u001b[39;00m\n\u001b[1;32m     58\u001b[0m \u001b[38;5;66;03m# SchemaError collected.\u001b[39;00m\n\u001b[1;32m     59\u001b[0m \u001b[38;5;28;01mif\u001b[39;00m \u001b[38;5;28mhasattr\u001b[39m(schema_error, \u001b[38;5;124m\"\u001b[39m\u001b[38;5;124mdata\u001b[39m\u001b[38;5;124m\"\u001b[39m):\n",
      "File \u001b[0;32m~/Documents/python_projects/personal_projects/smart-pandas/.venv/lib/python3.10/site-packages/pandera/backends/pandas/container.py:84\u001b[0m, in \u001b[0;36mDataFrameSchemaBackend.validate\u001b[0;34m(self, check_obj, schema, head, tail, sample, random_state, lazy, inplace)\u001b[0m\n\u001b[1;32m     82\u001b[0m \u001b[38;5;28;01mfor\u001b[39;00m parser, args \u001b[38;5;129;01min\u001b[39;00m core_parsers:\n\u001b[1;32m     83\u001b[0m     \u001b[38;5;28;01mtry\u001b[39;00m:\n\u001b[0;32m---> 84\u001b[0m         check_obj \u001b[38;5;241m=\u001b[39m \u001b[43mparser\u001b[49m\u001b[43m(\u001b[49m\u001b[43mcheck_obj\u001b[49m\u001b[43m,\u001b[49m\u001b[43m \u001b[49m\u001b[38;5;241;43m*\u001b[39;49m\u001b[43margs\u001b[49m\u001b[43m)\u001b[49m\n\u001b[1;32m     85\u001b[0m     \u001b[38;5;28;01mexcept\u001b[39;00m SchemaError \u001b[38;5;28;01mas\u001b[39;00m exc:\n\u001b[1;32m     86\u001b[0m         error_handler\u001b[38;5;241m.\u001b[39mcollect_error(\n\u001b[1;32m     87\u001b[0m             validation_type(exc\u001b[38;5;241m.\u001b[39mreason_code), exc\u001b[38;5;241m.\u001b[39mreason_code, exc\n\u001b[1;32m     88\u001b[0m         )\n",
      "File \u001b[0;32m~/Documents/python_projects/personal_projects/smart-pandas/.venv/lib/python3.10/site-packages/pandera/backends/pandas/container.py:496\u001b[0m, in \u001b[0;36mDataFrameSchemaBackend.strict_filter_columns\u001b[0;34m(self, check_obj, schema, column_info)\u001b[0m\n\u001b[1;32m    494\u001b[0m is_schema_col \u001b[38;5;241m=\u001b[39m column \u001b[38;5;129;01min\u001b[39;00m column_info\u001b[38;5;241m.\u001b[39mexpanded_column_names\n\u001b[1;32m    495\u001b[0m \u001b[38;5;28;01mif\u001b[39;00m schema\u001b[38;5;241m.\u001b[39mstrict \u001b[38;5;129;01mis\u001b[39;00m \u001b[38;5;28;01mTrue\u001b[39;00m \u001b[38;5;129;01mand\u001b[39;00m \u001b[38;5;129;01mnot\u001b[39;00m is_schema_col:\n\u001b[0;32m--> 496\u001b[0m     \u001b[38;5;28;01mraise\u001b[39;00m SchemaError(\n\u001b[1;32m    497\u001b[0m         schema\u001b[38;5;241m=\u001b[39mschema,\n\u001b[1;32m    498\u001b[0m         data\u001b[38;5;241m=\u001b[39mcheck_obj,\n\u001b[1;32m    499\u001b[0m         message\u001b[38;5;241m=\u001b[39m(\n\u001b[1;32m    500\u001b[0m             \u001b[38;5;124mf\u001b[39m\u001b[38;5;124m\"\u001b[39m\u001b[38;5;124mcolumn \u001b[39m\u001b[38;5;124m'\u001b[39m\u001b[38;5;132;01m{\u001b[39;00mcolumn\u001b[38;5;132;01m}\u001b[39;00m\u001b[38;5;124m'\u001b[39m\u001b[38;5;124m not in \u001b[39m\u001b[38;5;132;01m{\u001b[39;00mschema\u001b[38;5;241m.\u001b[39m\u001b[38;5;18m__class__\u001b[39m\u001b[38;5;241m.\u001b[39m\u001b[38;5;18m__name__\u001b[39m\u001b[38;5;132;01m}\u001b[39;00m\u001b[38;5;124m\"\u001b[39m\n\u001b[1;32m    501\u001b[0m             \u001b[38;5;124mf\u001b[39m\u001b[38;5;124m\"\u001b[39m\u001b[38;5;124m \u001b[39m\u001b[38;5;132;01m{\u001b[39;00mschema\u001b[38;5;241m.\u001b[39mcolumns\u001b[38;5;132;01m}\u001b[39;00m\u001b[38;5;124m\"\u001b[39m\n\u001b[1;32m    502\u001b[0m         ),\n\u001b[1;32m    503\u001b[0m         failure_cases\u001b[38;5;241m=\u001b[39mscalar_failure_case(column),\n\u001b[1;32m    504\u001b[0m         check\u001b[38;5;241m=\u001b[39m\u001b[38;5;124m\"\u001b[39m\u001b[38;5;124mcolumn_in_schema\u001b[39m\u001b[38;5;124m\"\u001b[39m,\n\u001b[1;32m    505\u001b[0m         reason_code\u001b[38;5;241m=\u001b[39mSchemaErrorReason\u001b[38;5;241m.\u001b[39mCOLUMN_NOT_IN_SCHEMA,\n\u001b[1;32m    506\u001b[0m     )\n\u001b[1;32m    507\u001b[0m \u001b[38;5;28;01mif\u001b[39;00m schema\u001b[38;5;241m.\u001b[39mstrict \u001b[38;5;241m==\u001b[39m \u001b[38;5;124m\"\u001b[39m\u001b[38;5;124mfilter\u001b[39m\u001b[38;5;124m\"\u001b[39m \u001b[38;5;129;01mand\u001b[39;00m \u001b[38;5;129;01mnot\u001b[39;00m is_schema_col:\n\u001b[1;32m    508\u001b[0m     filter_out_columns\u001b[38;5;241m.\u001b[39mappend(column)\n",
      "\u001b[0;31mSchemaError\u001b[0m: column 'bmi' not in DataFrameSchema {'user_id': <Schema Column(name=user_id, type=DataType(str))>, 'timestamp': <Schema Column(name=timestamp, type=DataType(datetime64[ns]))>, 'name': <Schema Column(name=name, type=DataType(str))>, 'weight': <Schema Column(name=weight, type=DataType(float64))>, 'height': <Schema Column(name=height, type=DataType(float64))>, 'age': <Schema Column(name=age, type=DataType(int64))>, 'life_expectancy': <Schema Column(name=life_expectancy, type=DataType(int64))>}"
     ]
    }
   ],
   "source": [
    "data.smart_pandas.validate(inplace=True, update_state=False)  # ignore the update_state flag for now, it will be explaiend below!"
   ]
  },
  {
   "cell_type": "markdown",
   "metadata": {},
   "source": [
    "The validation has failed! This is because the schema is built based on the current state of the data. Since the state is still `RAW` (because we haven't updated it) the schema does not expect to find the derived column `bmi` in the data. Fortunately the `validate` method provides the handy `update_state` flag which we can set to true, this will update the state (and also the resulting schema) prior to doing the validation."
   ]
  },
  {
   "cell_type": "code",
   "execution_count": 44,
   "metadata": {},
   "outputs": [],
   "source": [
    "data.smart_pandas.validate(inplace=True, update_state=True) "
   ]
  },
  {
   "cell_type": "markdown",
   "metadata": {},
   "source": [
    "Now our data passes the validation, and if we check the schema we can see that it has been updated to reflect the current state of the data."
   ]
  },
  {
   "cell_type": "code",
   "execution_count": 47,
   "metadata": {},
   "outputs": [
    {
     "name": "stdout",
     "output_type": "stream",
     "text": [
      "<Schema DataFrameSchema(\n",
      "    columns={\n",
      "        'user_id': <Schema Column(name=user_id, type=DataType(str))>\n",
      "        'timestamp': <Schema Column(name=timestamp, type=DataType(datetime64[ns]))>\n",
      "        'name': <Schema Column(name=name, type=DataType(str))>\n",
      "        'age': <Schema Column(name=age, type=DataType(int64))>\n",
      "        'bmi': <Schema Column(name=bmi, type=DataType(float64))>\n",
      "        'life_expectancy': <Schema Column(name=life_expectancy, type=DataType(int64))>\n",
      "    },\n",
      "    checks=[],\n",
      "    parsers=[],\n",
      "    coerce=True,\n",
      "    dtype=None,\n",
      "    index=None,\n",
      "    strict=True,\n",
      "    name=None,\n",
      "    ordered=False,\n",
      "    unique_column_names=True,\n",
      "    metadata=None, \n",
      "    add_missing_columns=False\n",
      ")>\n"
     ]
    }
   ],
   "source": [
    "print(data.smart_pandas.schema)"
   ]
  }
 ],
 "metadata": {
  "kernelspec": {
   "display_name": "Python 3 (ipykernel)",
   "language": "python",
   "name": "python3"
  },
  "language_info": {
   "codemirror_mode": {
    "name": "ipython",
    "version": 3
   },
   "file_extension": ".py",
   "mimetype": "text/x-python",
   "name": "python",
   "nbconvert_exporter": "python",
   "pygments_lexer": "ipython3",
   "version": "3.10.13"
  }
 },
 "nbformat": 4,
 "nbformat_minor": 4
}
